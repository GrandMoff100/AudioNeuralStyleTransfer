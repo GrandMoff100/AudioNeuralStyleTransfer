{
  "nbformat": 4,
  "nbformat_minor": 0,
  "metadata": {
    "colab": {
      "name": "AudioDataPreprocessing.ipynb",
      "provenance": [],
      "collapsed_sections": [],
      "mount_file_id": "153W2-okJG-PTZD_sFHFDusgMkpj8iPIo",
      "authorship_tag": "ABX9TyOO08wEKsoxStro1cmuLdKD"
    },
    "kernelspec": {
      "name": "python3",
      "display_name": "Python 3"
    },
    "language_info": {
      "name": "python"
    }
  },
  "cells": [
    {
      "cell_type": "code",
      "source": [
        "import glob\n",
        "import numpy as np\n",
        "import pickle\n",
        "\n",
        "\n",
        "grams = glob.glob(\"data/*.dat\")\n",
        "\n",
        "\n",
        "def load_spectrogram(path: str):\n",
        "    with open(path, \"rb\") as file:\n",
        "        return pickle.load(file)[0]\n",
        "\n",
        "\n",
        "def load_dataset(path: str):\n",
        "    with open(path, \"rb\") as file:\n",
        "        return np.load(file)\n",
        "\n",
        "\n",
        "def save_dataset(arr, path):\n",
        "    with open(path, \"wb\") as file:\n",
        "        np.save(file, arr)\n",
        "    del arr\n",
        "\n",
        "\n",
        "def build_dataset(micro_duration: int, max_song_size: int = 100000):\n",
        "    for gram in grams:\n",
        "        print(\"loading\", gram)\n",
        "        spectrum = load_spectrogram(gram)\n",
        "        spectrum = spectrum[:, :max_song_size]\n",
        "        spectrum = spectrum[:, : spectrum.shape[1] - spectrum.shape[1] % micro_duration]\n",
        "        print(spectrum.shape)\n",
        "        for i, view in enumerate(\n",
        "            np.array_split(\n",
        "                spectrum,\n",
        "                spectrum.shape[1] // micro_duration,\n",
        "                axis=1,\n",
        "\n",
        "            )\n",
        "        ):\n",
        "            print(\"view\", f\"#{i}\", view.shape)\n",
        "            save_dataset(view, f\"arrays/{i}_{gram.split('/')[-1]}.npy\")\n"
      ],
      "metadata": {
        "id": "-z7dBfdllbCn"
      },
      "execution_count": null,
      "outputs": []
    },
    {
      "cell_type": "code",
      "execution_count": null,
      "metadata": {
        "id": "2Hnvpxx8lXaD",
        "colab": {
          "base_uri": "https://localhost:8080/"
        },
        "outputId": "5ebf98db-e28e-48d3-8d22-0c9847b5447f"
      },
      "outputs": [
        {
          "output_type": "stream",
          "name": "stdout",
          "text": [
            "loading /content/drive/Shareddrives/Beural Style Transfer/Spectrograms/content.dat\n",
            "view #0\n"
          ]
        }
      ],
      "source": [
        "build_dataset(5000)"
      ]
    }
  ]
}